{
  "nbformat": 4,
  "nbformat_minor": 0,
  "metadata": {
    "colab": {
      "name": "MI_tutorial_student.ipynb",
      "provenance": [],
      "collapsed_sections": [],
      "toc_visible": true,
      "authorship_tag": "ABX9TyM02AdAm/PYN/m64DWYmIGN",
      "include_colab_link": true
    },
    "kernelspec": {
      "name": "python3",
      "display_name": "Python 3"
    }
  },
  "cells": [
    {
      "cell_type": "markdown",
      "metadata": {
        "id": "view-in-github",
        "colab_type": "text"
      },
      "source": [
        "<a href=\"https://colab.research.google.com/github/rmaffulli/MI_tutorial_student/blob/main/MI_tutorial_student.ipynb\" target=\"_parent\"><img src=\"https://colab.research.google.com/assets/colab-badge.svg\" alt=\"Open In Colab\"/></a>"
      ]
    },
    {
      "cell_type": "markdown",
      "metadata": {
        "id": "exoz57mj2FzI"
      },
      "source": [
        "# Tutorial on Information Theory in neuroscience\n",
        "Aims of the tutorial:\n",
        "- Understand the concept of entropy and quantify entropy in a signal\n",
        "- Binning strategies\n",
        "- Define mutual information and calculate it for a Poisson spiking neuron\n",
        "- Bias: origin, implications and mitigation strategies\n",
        "- The effect of correlated firing on information transmission"
      ]
    },
    {
      "cell_type": "markdown",
      "metadata": {
        "id": "HkWtYk-98bih"
      },
      "source": [
        "---\n",
        "# Setup"
      ]
    },
    {
      "cell_type": "code",
      "metadata": {
        "id": "0BrM9Dwl1fNH",
        "cellView": "form"
      },
      "source": [
        "#@title Import\n",
        "import numpy as np\n",
        "import random as rnd\n",
        "from matplotlib import pyplot as plt\n",
        "\n",
        "rnd.seed(2020)"
      ],
      "execution_count": null,
      "outputs": []
    },
    {
      "cell_type": "code",
      "metadata": {
        "id": "-_kx3sSw7X4Z",
        "cellView": "form"
      },
      "source": [
        "#@title Figure settings\n",
        "%config InlineBackend.figure_format = 'retina'\n",
        "plt.style.use(\"https://raw.githubusercontent.com/NeuromatchAcademy/course-content/master/nma.mplstyle\")"
      ],
      "execution_count": null,
      "outputs": []
    },
    {
      "cell_type": "markdown",
      "metadata": {
        "id": "MRFZegVu-REj"
      },
      "source": [
        "---\n",
        "# This is a test\n",
        "We are now going to test a couple of things. Hold on."
      ]
    },
    {
      "cell_type": "code",
      "metadata": {
        "colab": {
          "base_uri": "https://localhost:8080/",
          "height": 132
        },
        "id": "wZuBIU_C-YoV",
        "outputId": "0604cc22-4ad2-490a-fcbf-92eabfcd4b3e"
      },
      "source": [
        "# x = np.asarray([1, 2, 3, 4, 5]) \n",
        "# y = 2*x\n",
        "########################################################################\n",
        "## TODO: Fill in the update rule for our dynamical system.\n",
        "## Fill in function and remove\n",
        "raise NotImplementedError(\"Complete simulate_neurons\")\n",
        "########################################################################\n",
        "fig1 = plt.figure()\n",
        "plt.plot(x,y)\n",
        "plt.xlabel('x axis (-)')\n",
        "plt.ylabel('y axis (-)')"
      ],
      "execution_count": null,
      "outputs": [
        {
          "output_type": "error",
          "ename": "SyntaxError",
          "evalue": "ignored",
          "traceback": [
            "\u001b[0;36m  File \u001b[0;32m\"<ipython-input-1-2a85d5378a13>\"\u001b[0;36m, line \u001b[0;32m1\u001b[0m\n\u001b[0;31m    x =\u001b[0m\n\u001b[0m        ^\u001b[0m\n\u001b[0;31mSyntaxError\u001b[0m\u001b[0;31m:\u001b[0m invalid syntax\n"
          ]
        }
      ]
    },
    {
      "cell_type": "markdown",
      "metadata": {
        "outputId": "2481d229-c98a-4fce-a26d-a4c18fa08d74",
        "id": "LPNkAGOcGFAc"
      },
      "source": [
        "*Example output:*\n",
        "\n",
        "<img alt='Solution hint' align='left' width=557 height=343 src=https://raw.githubusercontent.com/rmaffulli/MI_tutorial/main/FIGURES/xkcdTestFig.png>\n",
        "\n"
      ]
    }
  ]
}